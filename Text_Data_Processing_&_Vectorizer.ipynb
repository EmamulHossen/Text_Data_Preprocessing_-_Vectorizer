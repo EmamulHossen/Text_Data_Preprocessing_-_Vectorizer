{
  "nbformat": 4,
  "nbformat_minor": 0,
  "metadata": {
    "colab": {
      "provenance": [],
      "mount_file_id": "1NslS8RVleO-w3jug0ps5y8vWAF3hQDKp",
      "authorship_tag": "ABX9TyPOhrppNDIc9yCSIqW/FbHS",
      "include_colab_link": true
    },
    "kernelspec": {
      "name": "python3",
      "display_name": "Python 3"
    },
    "language_info": {
      "name": "python"
    }
  },
  "cells": [
    {
      "cell_type": "markdown",
      "metadata": {
        "id": "view-in-github",
        "colab_type": "text"
      },
      "source": [
        "<a href=\"https://colab.research.google.com/github/EmamulHossen/Text_Data_Preprocessing_-_Vectorizer/blob/main/Text_Data_Processing_%26_Vectorizer.ipynb\" target=\"_parent\"><img src=\"https://colab.research.google.com/assets/colab-badge.svg\" alt=\"Open In Colab\"/></a>"
      ]
    },
    {
      "cell_type": "markdown",
      "source": [
        "# **Stemming in NLP**"
      ],
      "metadata": {
        "id": "u9ely7TuKqQu"
      }
    },
    {
      "cell_type": "code",
      "source": [
        "!pip install nltk"
      ],
      "metadata": {
        "colab": {
          "base_uri": "https://localhost:8080/"
        },
        "id": "oqwblag1L19E",
        "outputId": "a96e21f5-1eda-48ec-ff49-e019c8bbfd74"
      },
      "execution_count": null,
      "outputs": [
        {
          "output_type": "stream",
          "name": "stdout",
          "text": [
            "Requirement already satisfied: nltk in /usr/local/lib/python3.10/dist-packages (3.8.1)\n",
            "Requirement already satisfied: click in /usr/local/lib/python3.10/dist-packages (from nltk) (8.1.7)\n",
            "Requirement already satisfied: joblib in /usr/local/lib/python3.10/dist-packages (from nltk) (1.3.2)\n",
            "Requirement already satisfied: regex>=2021.8.3 in /usr/local/lib/python3.10/dist-packages (from nltk) (2023.6.3)\n",
            "Requirement already satisfied: tqdm in /usr/local/lib/python3.10/dist-packages (from nltk) (4.66.1)\n"
          ]
        }
      ]
    },
    {
      "cell_type": "code",
      "execution_count": null,
      "metadata": {
        "id": "GiE_9FdaKbla"
      },
      "outputs": [],
      "source": [
        "import nltk"
      ]
    },
    {
      "cell_type": "code",
      "source": [
        "nltk.download('punkt')"
      ],
      "metadata": {
        "colab": {
          "base_uri": "https://localhost:8080/"
        },
        "id": "SLeXHIP-P1jU",
        "outputId": "a70cf667-bd42-49c7-9686-82cf79f6cf6f"
      },
      "execution_count": null,
      "outputs": [
        {
          "output_type": "stream",
          "name": "stderr",
          "text": [
            "[nltk_data] Downloading package punkt to /root/nltk_data...\n",
            "[nltk_data]   Unzipping tokenizers/punkt.zip.\n"
          ]
        },
        {
          "output_type": "execute_result",
          "data": {
            "text/plain": [
              "True"
            ]
          },
          "metadata": {},
          "execution_count": 3
        }
      ]
    },
    {
      "cell_type": "code",
      "source": [
        "nltk.download('wordnet')"
      ],
      "metadata": {
        "colab": {
          "base_uri": "https://localhost:8080/"
        },
        "id": "b4lfkrsPSPJ8",
        "outputId": "32b865f7-fe65-4a37-d87c-744f4e53f7f5"
      },
      "execution_count": null,
      "outputs": [
        {
          "output_type": "stream",
          "name": "stderr",
          "text": [
            "[nltk_data] Downloading package wordnet to /root/nltk_data...\n"
          ]
        },
        {
          "output_type": "execute_result",
          "data": {
            "text/plain": [
              "True"
            ]
          },
          "metadata": {},
          "execution_count": 4
        }
      ]
    },
    {
      "cell_type": "code",
      "source": [
        "word=[\"change\",\"changing\",\"changes\",\"changed\"]"
      ],
      "metadata": {
        "id": "GKIVB-HPKoTe"
      },
      "execution_count": null,
      "outputs": []
    },
    {
      "cell_type": "code",
      "source": [
        "type(word)"
      ],
      "metadata": {
        "colab": {
          "base_uri": "https://localhost:8080/"
        },
        "id": "LN0aeeylKoO0",
        "outputId": "607e60e0-63bd-4ef5-8888-d5b39187c280"
      },
      "execution_count": null,
      "outputs": [
        {
          "output_type": "execute_result",
          "data": {
            "text/plain": [
              "list"
            ]
          },
          "metadata": {},
          "execution_count": 6
        }
      ]
    },
    {
      "cell_type": "code",
      "source": [
        "word"
      ],
      "metadata": {
        "colab": {
          "base_uri": "https://localhost:8080/"
        },
        "id": "s4ElDxHzKoKi",
        "outputId": "52a41ffd-9e4c-42ff-c947-785bb58f97b8"
      },
      "execution_count": null,
      "outputs": [
        {
          "output_type": "execute_result",
          "data": {
            "text/plain": [
              "['change', 'changing', 'changes', 'changed']"
            ]
          },
          "metadata": {},
          "execution_count": 7
        }
      ]
    },
    {
      "cell_type": "code",
      "source": [
        "from nltk.stem import PorterStemmer #stem means stemminng"
      ],
      "metadata": {
        "id": "lAh_fvnxKoGw"
      },
      "execution_count": null,
      "outputs": []
    },
    {
      "cell_type": "code",
      "source": [
        "#Creating Object\n",
        "p=PorterStemmer()"
      ],
      "metadata": {
        "id": "5wIPkqwkKoDD"
      },
      "execution_count": null,
      "outputs": []
    },
    {
      "cell_type": "code",
      "source": [
        "for w in word:\n",
        "  print(p.stem(w))"
      ],
      "metadata": {
        "colab": {
          "base_uri": "https://localhost:8080/"
        },
        "id": "P7Rr2NVfKn_M",
        "outputId": "c02d81f9-3a53-4af0-ec51-9410bcdbd709"
      },
      "execution_count": null,
      "outputs": [
        {
          "output_type": "stream",
          "name": "stdout",
          "text": [
            "chang\n",
            "chang\n",
            "chang\n",
            "chang\n"
          ]
        }
      ]
    },
    {
      "cell_type": "code",
      "source": [
        "for w in word:\n",
        "  print(w,p.stem(w))"
      ],
      "metadata": {
        "colab": {
          "base_uri": "https://localhost:8080/"
        },
        "id": "9a9PpRhoKn8E",
        "outputId": "32bd5845-1d59-4cd0-c23b-8749268fccfb"
      },
      "execution_count": null,
      "outputs": [
        {
          "output_type": "stream",
          "name": "stdout",
          "text": [
            "change chang\n",
            "changing chang\n",
            "changes chang\n",
            "changed chang\n"
          ]
        }
      ]
    },
    {
      "cell_type": "markdown",
      "source": [
        "**Sentence**"
      ],
      "metadata": {
        "id": "zQUMnAihOLqL"
      }
    },
    {
      "cell_type": "code",
      "source": [
        "sen=\"I want to change the world if world changed my career by changing abcd\""
      ],
      "metadata": {
        "id": "qaMtcikjKn4b"
      },
      "execution_count": null,
      "outputs": []
    },
    {
      "cell_type": "code",
      "source": [
        "type(sen)"
      ],
      "metadata": {
        "colab": {
          "base_uri": "https://localhost:8080/"
        },
        "id": "6Zmw8oImKn0_",
        "outputId": "5539ec80-0644-4d35-991d-7935d6ae16fc"
      },
      "execution_count": null,
      "outputs": [
        {
          "output_type": "execute_result",
          "data": {
            "text/plain": [
              "str"
            ]
          },
          "metadata": {},
          "execution_count": 13
        }
      ]
    },
    {
      "cell_type": "code",
      "source": [
        "sen"
      ],
      "metadata": {
        "colab": {
          "base_uri": "https://localhost:8080/",
          "height": 36
        },
        "id": "vR3kWhxtKnwM",
        "outputId": "bee258a9-bff3-4b70-8ec0-ed4214364a91"
      },
      "execution_count": null,
      "outputs": [
        {
          "output_type": "execute_result",
          "data": {
            "text/plain": [
              "'I want to change the world if world changed my career by changing abcd'"
            ],
            "application/vnd.google.colaboratory.intrinsic+json": {
              "type": "string"
            }
          },
          "metadata": {},
          "execution_count": 14
        }
      ]
    },
    {
      "cell_type": "markdown",
      "source": [
        "**For sentence**\n",
        "> At first the sentence covert to token\n",
        "\n"
      ],
      "metadata": {
        "id": "sXPtYucFOxFD"
      }
    },
    {
      "cell_type": "code",
      "source": [
        "from nltk.tokenize import word_tokenize"
      ],
      "metadata": {
        "id": "zFa0p7T1Kns1"
      },
      "execution_count": null,
      "outputs": []
    },
    {
      "cell_type": "code",
      "source": [
        "toke=word_tokenize(sen)"
      ],
      "metadata": {
        "id": "c7oSPaUePnYb"
      },
      "execution_count": null,
      "outputs": []
    },
    {
      "cell_type": "code",
      "source": [
        "toke #Tokenize word"
      ],
      "metadata": {
        "colab": {
          "base_uri": "https://localhost:8080/"
        },
        "id": "Iry764ERPnTP",
        "outputId": "7a700ecd-8bbe-4b21-b697-e2970a5f048d"
      },
      "execution_count": null,
      "outputs": [
        {
          "output_type": "execute_result",
          "data": {
            "text/plain": [
              "['I',\n",
              " 'want',\n",
              " 'to',\n",
              " 'change',\n",
              " 'the',\n",
              " 'world',\n",
              " 'if',\n",
              " 'world',\n",
              " 'changed',\n",
              " 'my',\n",
              " 'career',\n",
              " 'by',\n",
              " 'changing',\n",
              " 'abcd']"
            ]
          },
          "metadata": {},
          "execution_count": 17
        }
      ]
    },
    {
      "cell_type": "markdown",
      "source": [
        "**For tokenization,we can use split function**"
      ],
      "metadata": {
        "id": "q4983NInQNMD"
      }
    },
    {
      "cell_type": "code",
      "source": [
        "sen.split()"
      ],
      "metadata": {
        "colab": {
          "base_uri": "https://localhost:8080/"
        },
        "id": "pn4rAnucPnPq",
        "outputId": "2a1c7fa1-3ca1-4682-ba65-1d1ecae2ffa4"
      },
      "execution_count": null,
      "outputs": [
        {
          "output_type": "execute_result",
          "data": {
            "text/plain": [
              "['I',\n",
              " 'want',\n",
              " 'to',\n",
              " 'change',\n",
              " 'the',\n",
              " 'world',\n",
              " 'if',\n",
              " 'world',\n",
              " 'changed',\n",
              " 'my',\n",
              " 'career',\n",
              " 'by',\n",
              " 'changing',\n",
              " 'abcd']"
            ]
          },
          "metadata": {},
          "execution_count": 18
        }
      ]
    },
    {
      "cell_type": "code",
      "source": [
        "# Now Stemming\n",
        "for w in toke:\n",
        "  print(p.stem(w))"
      ],
      "metadata": {
        "colab": {
          "base_uri": "https://localhost:8080/"
        },
        "id": "rR88Fgk3PnMn",
        "outputId": "d105e1b1-9030-4b23-b163-53c42d5b6bef"
      },
      "execution_count": null,
      "outputs": [
        {
          "output_type": "stream",
          "name": "stdout",
          "text": [
            "i\n",
            "want\n",
            "to\n",
            "chang\n",
            "the\n",
            "world\n",
            "if\n",
            "world\n",
            "chang\n",
            "my\n",
            "career\n",
            "by\n",
            "chang\n",
            "abcd\n"
          ]
        }
      ]
    },
    {
      "cell_type": "code",
      "source": [
        "# Now Stemming\n",
        "for w in toke:\n",
        "  print(w,p.stem(w)) #Before old,after tokenized word"
      ],
      "metadata": {
        "colab": {
          "base_uri": "https://localhost:8080/"
        },
        "id": "MY3AUYh3PnJm",
        "outputId": "2dad6fef-81b9-4f1a-b4f9-4f496a5c00a2"
      },
      "execution_count": null,
      "outputs": [
        {
          "output_type": "stream",
          "name": "stdout",
          "text": [
            "I i\n",
            "want want\n",
            "to to\n",
            "change chang\n",
            "the the\n",
            "world world\n",
            "if if\n",
            "world world\n",
            "changed chang\n",
            "my my\n",
            "career career\n",
            "by by\n",
            "changing chang\n",
            "abcd abcd\n"
          ]
        }
      ]
    },
    {
      "cell_type": "markdown",
      "source": [
        "# **Lemmatization in NLP**"
      ],
      "metadata": {
        "id": "Dmuwu8eGRDcO"
      }
    },
    {
      "cell_type": "code",
      "source": [
        "from nltk.stem import WordNetLemmatizer"
      ],
      "metadata": {
        "id": "-FpD8CKLPnGO"
      },
      "execution_count": null,
      "outputs": []
    },
    {
      "cell_type": "code",
      "source": [
        "lm=WordNetLemmatizer()"
      ],
      "metadata": {
        "id": "98iwISDyPnDU"
      },
      "execution_count": null,
      "outputs": []
    },
    {
      "cell_type": "code",
      "source": [
        "toke"
      ],
      "metadata": {
        "colab": {
          "base_uri": "https://localhost:8080/"
        },
        "id": "1Jq2Al4gRpSl",
        "outputId": "f7099774-b205-49e5-ec5f-bdda1f72946a"
      },
      "execution_count": null,
      "outputs": [
        {
          "output_type": "execute_result",
          "data": {
            "text/plain": [
              "['I',\n",
              " 'want',\n",
              " 'to',\n",
              " 'change',\n",
              " 'the',\n",
              " 'world',\n",
              " 'if',\n",
              " 'world',\n",
              " 'changed',\n",
              " 'my',\n",
              " 'career',\n",
              " 'by',\n",
              " 'changing',\n",
              " 'abcd']"
            ]
          },
          "metadata": {},
          "execution_count": 23
        }
      ]
    },
    {
      "cell_type": "code",
      "source": [
        "for w in toke:\n",
        "  print(lm.lemmatize(w))"
      ],
      "metadata": {
        "colab": {
          "base_uri": "https://localhost:8080/"
        },
        "id": "whNjrZk6RpP3",
        "outputId": "50a963b1-e888-4669-825e-64053dfe3e15"
      },
      "execution_count": null,
      "outputs": [
        {
          "output_type": "stream",
          "name": "stdout",
          "text": [
            "I\n",
            "want\n",
            "to\n",
            "change\n",
            "the\n",
            "world\n",
            "if\n",
            "world\n",
            "changed\n",
            "my\n",
            "career\n",
            "by\n",
            "changing\n",
            "abcd\n"
          ]
        }
      ]
    },
    {
      "cell_type": "code",
      "source": [
        "for w in toke:\n",
        "  print(w,lm.lemmatize(w))"
      ],
      "metadata": {
        "colab": {
          "base_uri": "https://localhost:8080/"
        },
        "id": "lNp0HtNnRpLy",
        "outputId": "c7ce4b88-2352-4f91-d06d-63868326295b"
      },
      "execution_count": null,
      "outputs": [
        {
          "output_type": "stream",
          "name": "stdout",
          "text": [
            "I I\n",
            "want want\n",
            "to to\n",
            "change change\n",
            "the the\n",
            "world world\n",
            "if if\n",
            "world world\n",
            "changed changed\n",
            "my my\n",
            "career career\n",
            "by by\n",
            "changing changing\n",
            "abcd abcd\n"
          ]
        }
      ]
    },
    {
      "cell_type": "code",
      "source": [
        "lm.lemmatize(\"Changes\")"
      ],
      "metadata": {
        "colab": {
          "base_uri": "https://localhost:8080/",
          "height": 36
        },
        "id": "5MLLBV9dRpIy",
        "outputId": "fb498fd1-6d48-4359-fb8e-8675697d8631"
      },
      "execution_count": null,
      "outputs": [
        {
          "output_type": "execute_result",
          "data": {
            "text/plain": [
              "'Changes'"
            ],
            "application/vnd.google.colaboratory.intrinsic+json": {
              "type": "string"
            }
          },
          "metadata": {},
          "execution_count": 26
        }
      ]
    },
    {
      "cell_type": "markdown",
      "source": [
        "# **Tokenization in NLP**\n",
        "> In Python tokenization basically refers to splitting up a larger body of text into smaller lines, words or even creating words for a non-English language.\n",
        "\n",
        "> ![0_EKgminT7W-0R4Iae.png](data:image/png;base64,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)\n",
        "\n",
        "\n",
        "\n"
      ],
      "metadata": {
        "id": "rYAQESVJS4Ht"
      }
    },
    {
      "cell_type": "markdown",
      "source": [
        "**NLTK**\n",
        "> NLTK(Natural Language Toolkit) is a widely used library for NLP tasks.To perform tokenization using NLTK, you need to install it first.\n",
        "\n"
      ],
      "metadata": {
        "id": "RsM9qCehQlEi"
      }
    },
    {
      "cell_type": "code",
      "source": [
        "from nltk.tokenize import word_tokenize ,sent_tokenize\n",
        "\n",
        "\n",
        "sentence=\"I am from aiQuest Intelligence. Iam learning NLP. It is fascinating!\"\n",
        "word_tokens=word_tokenize(sentence)\n",
        "sentence_tokens=sent_tokenize(sentence)\n",
        "\n",
        "\n",
        "print(word_tokens)\n",
        "print(sentence_tokens)"
      ],
      "metadata": {
        "colab": {
          "base_uri": "https://localhost:8080/"
        },
        "id": "DqAQjVg4RpFr",
        "outputId": "fddafe05-0846-4d6c-d3f2-4dcdc57d836c"
      },
      "execution_count": null,
      "outputs": [
        {
          "output_type": "stream",
          "name": "stdout",
          "text": [
            "['I', 'am', 'from', 'aiQuest', 'Intelligence', '.', 'Iam', 'learning', 'NLP', '.', 'It', 'is', 'fascinating', '!']\n",
            "['I am from aiQuest Intelligence.', 'Iam learning NLP.', 'It is fascinating!']\n"
          ]
        }
      ]
    },
    {
      "cell_type": "markdown",
      "source": [
        "# **SpaCy**\n",
        "> spaCy is an open-source natural language processing (NLP) library and framework for Python.\n",
        "\n"
      ],
      "metadata": {
        "id": "fT85i2GIUYZq"
      }
    },
    {
      "cell_type": "code",
      "source": [
        "import spacy\n",
        "\n",
        "# Load the English language model\n",
        "nlp = spacy.load(\"en_core_web_sm\")\n",
        "\n",
        "# Process a text\n",
        "text = \"Hello, spaCy is great!\"\n",
        "doc = nlp(text)\n",
        "\n",
        "# Tokenize the text and print tokens\n",
        "for token in doc:\n",
        "    print(token.text)\n"
      ],
      "metadata": {
        "colab": {
          "base_uri": "https://localhost:8080/"
        },
        "id": "xTy5vHjNRpCy",
        "outputId": "cdabb338-6e75-448d-a9cc-7f02c490ce72"
      },
      "execution_count": null,
      "outputs": [
        {
          "output_type": "stream",
          "name": "stdout",
          "text": [
            "Hello\n",
            ",\n",
            "spaCy\n",
            "is\n",
            "great\n",
            "!\n"
          ]
        }
      ]
    },
    {
      "cell_type": "code",
      "source": [
        "from transformers import AutoTokenizer\n",
        "\n",
        "tokenizer=AutoTokenizer.from_pretrained(\"bert-base-uncased\")\n",
        "\n",
        "sentence=\"I am from aiQuest Intelligence. Iam learning NLP. It is fascinating!\"\n",
        "tokens=tokenizer.tokenize(sentence)\n",
        "\n",
        "print(tokens)"
      ],
      "metadata": {
        "colab": {
          "base_uri": "https://localhost:8080/"
        },
        "id": "J_IvBmkdu2bJ",
        "outputId": "16008e3e-7cbf-4b9c-c6df-db2e18fe63f9"
      },
      "execution_count": null,
      "outputs": [
        {
          "output_type": "stream",
          "name": "stdout",
          "text": [
            "['i', 'am', 'from', 'ai', '##quest', 'intelligence', '.', 'ia', '##m', 'learning', 'nl', '##p', '.', 'it', 'is', 'fascinating', '!']\n"
          ]
        }
      ]
    },
    {
      "cell_type": "markdown",
      "source": [
        "# **Named Entity Tikenization using NLTK**\n",
        ">Named Entity Tokenization  is a common NLP task that involves identifying and classifying named entities (such as names of people, organizations, locations, and more) within a text.\n",
        "\n"
      ],
      "metadata": {
        "id": "_s8zpAOiwkOv"
      }
    },
    {
      "cell_type": "code",
      "source": [
        "nltk.download(\"averaged_perceptron_tagger\")"
      ],
      "metadata": {
        "colab": {
          "base_uri": "https://localhost:8080/"
        },
        "id": "VOYErZJLu2Xc",
        "outputId": "9a4c1fa2-531a-4866-de32-f373b5df5aa2"
      },
      "execution_count": null,
      "outputs": [
        {
          "output_type": "stream",
          "name": "stderr",
          "text": [
            "[nltk_data] Downloading package averaged_perceptron_tagger to\n",
            "[nltk_data]     /root/nltk_data...\n",
            "[nltk_data]   Package averaged_perceptron_tagger is already up-to-\n",
            "[nltk_data]       date!\n"
          ]
        },
        {
          "output_type": "execute_result",
          "data": {
            "text/plain": [
              "True"
            ]
          },
          "metadata": {},
          "execution_count": 36
        }
      ]
    },
    {
      "cell_type": "code",
      "source": [
        "nltk.download(\"wordnet\")"
      ],
      "metadata": {
        "colab": {
          "base_uri": "https://localhost:8080/"
        },
        "id": "hwewisGKu2OL",
        "outputId": "46ef609e-0a49-4c75-b23d-3571396117e1"
      },
      "execution_count": null,
      "outputs": [
        {
          "output_type": "stream",
          "name": "stderr",
          "text": [
            "[nltk_data] Downloading package wordnet to /root/nltk_data...\n",
            "[nltk_data]   Package wordnet is already up-to-date!\n"
          ]
        },
        {
          "output_type": "execute_result",
          "data": {
            "text/plain": [
              "True"
            ]
          },
          "metadata": {},
          "execution_count": 37
        }
      ]
    },
    {
      "cell_type": "code",
      "source": [
        "nltk.download(\"ne_chunker\")"
      ],
      "metadata": {
        "colab": {
          "base_uri": "https://localhost:8080/"
        },
        "id": "ZgN6AKJczO5Y",
        "outputId": "39934b5a-6ef1-4c5c-96d5-aa937b34c471"
      },
      "execution_count": null,
      "outputs": [
        {
          "output_type": "stream",
          "name": "stderr",
          "text": [
            "[nltk_data] Error loading ne_chunker: Package 'ne_chunker' not found\n",
            "[nltk_data]     in index\n"
          ]
        },
        {
          "output_type": "execute_result",
          "data": {
            "text/plain": [
              "False"
            ]
          },
          "metadata": {},
          "execution_count": 43
        }
      ]
    },
    {
      "cell_type": "code",
      "source": [
        "nltk.download(\"words\")"
      ],
      "metadata": {
        "colab": {
          "base_uri": "https://localhost:8080/"
        },
        "id": "yzARfae7zT2K",
        "outputId": "b6c5757a-483b-462e-bf55-ca9c5bf50591"
      },
      "execution_count": null,
      "outputs": [
        {
          "output_type": "stream",
          "name": "stderr",
          "text": [
            "[nltk_data] Downloading package words to /root/nltk_data...\n",
            "[nltk_data]   Package words is already up-to-date!\n"
          ]
        },
        {
          "output_type": "execute_result",
          "data": {
            "text/plain": [
              "True"
            ]
          },
          "metadata": {},
          "execution_count": 42
        }
      ]
    },
    {
      "cell_type": "markdown",
      "source": [
        "# **Text Vectorizer**\n",
        "---\n",
        "Text vectorization is the process of converting textual data into a numerical format that can be used for machine learning and natural language processing tasks.\n",
        "---\n",
        "1.**Count Vectorizer**<br/>\n",
        "2.**TF-IDF Vectorizer**<br/>\n",
        "3.**word2Vec Vectorizer**\n",
        "\n"
      ],
      "metadata": {
        "id": "P1F0UGEH0Oni"
      }
    },
    {
      "cell_type": "code",
      "source": [
        "from google.colab import drive\n",
        "drive.mount(\"/content/drive\")"
      ],
      "metadata": {
        "colab": {
          "base_uri": "https://localhost:8080/"
        },
        "id": "-M44Y-hU2Ubw",
        "outputId": "654c1b1e-d67b-409b-fd7f-ba3c99abf08e"
      },
      "execution_count": null,
      "outputs": [
        {
          "output_type": "stream",
          "name": "stdout",
          "text": [
            "Drive already mounted at /content/drive; to attempt to forcibly remount, call drive.mount(\"/content/drive\", force_remount=True).\n"
          ]
        }
      ]
    },
    {
      "cell_type": "code",
      "source": [
        "import pandas as pd\n",
        "df=pd.read_csv(\"/content/drive/MyDrive/Data/data.csv\")\n"
      ],
      "metadata": {
        "id": "FYXsTMH7u2Hf"
      },
      "execution_count": null,
      "outputs": []
    },
    {
      "cell_type": "code",
      "source": [
        "df"
      ],
      "metadata": {
        "colab": {
          "base_uri": "https://localhost:8080/",
          "height": 175
        },
        "id": "e-xUO1mku2Dz",
        "outputId": "e47473e8-961d-4795-c0c4-8acd44c988cc"
      },
      "execution_count": null,
      "outputs": [
        {
          "output_type": "execute_result",
          "data": {
            "text/plain": [
              "                           test  class\n",
              "0             I love Bangladesh      1\n",
              "1  Could you give me an iphone?      0\n",
              "2            Hello how are you?      1\n",
              "3           I want to talk you.      1"
            ],
            "text/html": [
              "\n",
              "  <div id=\"df-abb09e58-19a2-48e7-b310-563e8141e2be\" class=\"colab-df-container\">\n",
              "    <div>\n",
              "<style scoped>\n",
              "    .dataframe tbody tr th:only-of-type {\n",
              "        vertical-align: middle;\n",
              "    }\n",
              "\n",
              "    .dataframe tbody tr th {\n",
              "        vertical-align: top;\n",
              "    }\n",
              "\n",
              "    .dataframe thead th {\n",
              "        text-align: right;\n",
              "    }\n",
              "</style>\n",
              "<table border=\"1\" class=\"dataframe\">\n",
              "  <thead>\n",
              "    <tr style=\"text-align: right;\">\n",
              "      <th></th>\n",
              "      <th>test</th>\n",
              "      <th>class</th>\n",
              "    </tr>\n",
              "  </thead>\n",
              "  <tbody>\n",
              "    <tr>\n",
              "      <th>0</th>\n",
              "      <td>I love Bangladesh</td>\n",
              "      <td>1</td>\n",
              "    </tr>\n",
              "    <tr>\n",
              "      <th>1</th>\n",
              "      <td>Could you give me an iphone?</td>\n",
              "      <td>0</td>\n",
              "    </tr>\n",
              "    <tr>\n",
              "      <th>2</th>\n",
              "      <td>Hello how are you?</td>\n",
              "      <td>1</td>\n",
              "    </tr>\n",
              "    <tr>\n",
              "      <th>3</th>\n",
              "      <td>I want to talk you.</td>\n",
              "      <td>1</td>\n",
              "    </tr>\n",
              "  </tbody>\n",
              "</table>\n",
              "</div>\n",
              "    <div class=\"colab-df-buttons\">\n",
              "\n",
              "  <div class=\"colab-df-container\">\n",
              "    <button class=\"colab-df-convert\" onclick=\"convertToInteractive('df-abb09e58-19a2-48e7-b310-563e8141e2be')\"\n",
              "            title=\"Convert this dataframe to an interactive table.\"\n",
              "            style=\"display:none;\">\n",
              "\n",
              "  <svg xmlns=\"http://www.w3.org/2000/svg\" height=\"24px\" viewBox=\"0 -960 960 960\">\n",
              "    <path d=\"M120-120v-720h720v720H120Zm60-500h600v-160H180v160Zm220 220h160v-160H400v160Zm0 220h160v-160H400v160ZM180-400h160v-160H180v160Zm440 0h160v-160H620v160ZM180-180h160v-160H180v160Zm440 0h160v-160H620v160Z\"/>\n",
              "  </svg>\n",
              "    </button>\n",
              "\n",
              "  <style>\n",
              "    .colab-df-container {\n",
              "      display:flex;\n",
              "      gap: 12px;\n",
              "    }\n",
              "\n",
              "    .colab-df-convert {\n",
              "      background-color: #E8F0FE;\n",
              "      border: none;\n",
              "      border-radius: 50%;\n",
              "      cursor: pointer;\n",
              "      display: none;\n",
              "      fill: #1967D2;\n",
              "      height: 32px;\n",
              "      padding: 0 0 0 0;\n",
              "      width: 32px;\n",
              "    }\n",
              "\n",
              "    .colab-df-convert:hover {\n",
              "      background-color: #E2EBFA;\n",
              "      box-shadow: 0px 1px 2px rgba(60, 64, 67, 0.3), 0px 1px 3px 1px rgba(60, 64, 67, 0.15);\n",
              "      fill: #174EA6;\n",
              "    }\n",
              "\n",
              "    .colab-df-buttons div {\n",
              "      margin-bottom: 4px;\n",
              "    }\n",
              "\n",
              "    [theme=dark] .colab-df-convert {\n",
              "      background-color: #3B4455;\n",
              "      fill: #D2E3FC;\n",
              "    }\n",
              "\n",
              "    [theme=dark] .colab-df-convert:hover {\n",
              "      background-color: #434B5C;\n",
              "      box-shadow: 0px 1px 3px 1px rgba(0, 0, 0, 0.15);\n",
              "      filter: drop-shadow(0px 1px 2px rgba(0, 0, 0, 0.3));\n",
              "      fill: #FFFFFF;\n",
              "    }\n",
              "  </style>\n",
              "\n",
              "    <script>\n",
              "      const buttonEl =\n",
              "        document.querySelector('#df-abb09e58-19a2-48e7-b310-563e8141e2be button.colab-df-convert');\n",
              "      buttonEl.style.display =\n",
              "        google.colab.kernel.accessAllowed ? 'block' : 'none';\n",
              "\n",
              "      async function convertToInteractive(key) {\n",
              "        const element = document.querySelector('#df-abb09e58-19a2-48e7-b310-563e8141e2be');\n",
              "        const dataTable =\n",
              "          await google.colab.kernel.invokeFunction('convertToInteractive',\n",
              "                                                    [key], {});\n",
              "        if (!dataTable) return;\n",
              "\n",
              "        const docLinkHtml = 'Like what you see? Visit the ' +\n",
              "          '<a target=\"_blank\" href=https://colab.research.google.com/notebooks/data_table.ipynb>data table notebook</a>'\n",
              "          + ' to learn more about interactive tables.';\n",
              "        element.innerHTML = '';\n",
              "        dataTable['output_type'] = 'display_data';\n",
              "        await google.colab.output.renderOutput(dataTable, element);\n",
              "        const docLink = document.createElement('div');\n",
              "        docLink.innerHTML = docLinkHtml;\n",
              "        element.appendChild(docLink);\n",
              "      }\n",
              "    </script>\n",
              "  </div>\n",
              "\n",
              "\n",
              "<div id=\"df-f8453cb9-a367-488f-a337-a2cf2d04a714\">\n",
              "  <button class=\"colab-df-quickchart\" onclick=\"quickchart('df-f8453cb9-a367-488f-a337-a2cf2d04a714')\"\n",
              "            title=\"Suggest charts.\"\n",
              "            style=\"display:none;\">\n",
              "\n",
              "<svg xmlns=\"http://www.w3.org/2000/svg\" height=\"24px\"viewBox=\"0 0 24 24\"\n",
              "     width=\"24px\">\n",
              "    <g>\n",
              "        <path d=\"M19 3H5c-1.1 0-2 .9-2 2v14c0 1.1.9 2 2 2h14c1.1 0 2-.9 2-2V5c0-1.1-.9-2-2-2zM9 17H7v-7h2v7zm4 0h-2V7h2v10zm4 0h-2v-4h2v4z\"/>\n",
              "    </g>\n",
              "</svg>\n",
              "  </button>\n",
              "\n",
              "<style>\n",
              "  .colab-df-quickchart {\n",
              "      --bg-color: #E8F0FE;\n",
              "      --fill-color: #1967D2;\n",
              "      --hover-bg-color: #E2EBFA;\n",
              "      --hover-fill-color: #174EA6;\n",
              "      --disabled-fill-color: #AAA;\n",
              "      --disabled-bg-color: #DDD;\n",
              "  }\n",
              "\n",
              "  [theme=dark] .colab-df-quickchart {\n",
              "      --bg-color: #3B4455;\n",
              "      --fill-color: #D2E3FC;\n",
              "      --hover-bg-color: #434B5C;\n",
              "      --hover-fill-color: #FFFFFF;\n",
              "      --disabled-bg-color: #3B4455;\n",
              "      --disabled-fill-color: #666;\n",
              "  }\n",
              "\n",
              "  .colab-df-quickchart {\n",
              "    background-color: var(--bg-color);\n",
              "    border: none;\n",
              "    border-radius: 50%;\n",
              "    cursor: pointer;\n",
              "    display: none;\n",
              "    fill: var(--fill-color);\n",
              "    height: 32px;\n",
              "    padding: 0;\n",
              "    width: 32px;\n",
              "  }\n",
              "\n",
              "  .colab-df-quickchart:hover {\n",
              "    background-color: var(--hover-bg-color);\n",
              "    box-shadow: 0 1px 2px rgba(60, 64, 67, 0.3), 0 1px 3px 1px rgba(60, 64, 67, 0.15);\n",
              "    fill: var(--button-hover-fill-color);\n",
              "  }\n",
              "\n",
              "  .colab-df-quickchart-complete:disabled,\n",
              "  .colab-df-quickchart-complete:disabled:hover {\n",
              "    background-color: var(--disabled-bg-color);\n",
              "    fill: var(--disabled-fill-color);\n",
              "    box-shadow: none;\n",
              "  }\n",
              "\n",
              "  .colab-df-spinner {\n",
              "    border: 2px solid var(--fill-color);\n",
              "    border-color: transparent;\n",
              "    border-bottom-color: var(--fill-color);\n",
              "    animation:\n",
              "      spin 1s steps(1) infinite;\n",
              "  }\n",
              "\n",
              "  @keyframes spin {\n",
              "    0% {\n",
              "      border-color: transparent;\n",
              "      border-bottom-color: var(--fill-color);\n",
              "      border-left-color: var(--fill-color);\n",
              "    }\n",
              "    20% {\n",
              "      border-color: transparent;\n",
              "      border-left-color: var(--fill-color);\n",
              "      border-top-color: var(--fill-color);\n",
              "    }\n",
              "    30% {\n",
              "      border-color: transparent;\n",
              "      border-left-color: var(--fill-color);\n",
              "      border-top-color: var(--fill-color);\n",
              "      border-right-color: var(--fill-color);\n",
              "    }\n",
              "    40% {\n",
              "      border-color: transparent;\n",
              "      border-right-color: var(--fill-color);\n",
              "      border-top-color: var(--fill-color);\n",
              "    }\n",
              "    60% {\n",
              "      border-color: transparent;\n",
              "      border-right-color: var(--fill-color);\n",
              "    }\n",
              "    80% {\n",
              "      border-color: transparent;\n",
              "      border-right-color: var(--fill-color);\n",
              "      border-bottom-color: var(--fill-color);\n",
              "    }\n",
              "    90% {\n",
              "      border-color: transparent;\n",
              "      border-bottom-color: var(--fill-color);\n",
              "    }\n",
              "  }\n",
              "</style>\n",
              "\n",
              "  <script>\n",
              "    async function quickchart(key) {\n",
              "      const quickchartButtonEl =\n",
              "        document.querySelector('#' + key + ' button');\n",
              "      quickchartButtonEl.disabled = true;  // To prevent multiple clicks.\n",
              "      quickchartButtonEl.classList.add('colab-df-spinner');\n",
              "      try {\n",
              "        const charts = await google.colab.kernel.invokeFunction(\n",
              "            'suggestCharts', [key], {});\n",
              "      } catch (error) {\n",
              "        console.error('Error during call to suggestCharts:', error);\n",
              "      }\n",
              "      quickchartButtonEl.classList.remove('colab-df-spinner');\n",
              "      quickchartButtonEl.classList.add('colab-df-quickchart-complete');\n",
              "    }\n",
              "    (() => {\n",
              "      let quickchartButtonEl =\n",
              "        document.querySelector('#df-f8453cb9-a367-488f-a337-a2cf2d04a714 button');\n",
              "      quickchartButtonEl.style.display =\n",
              "        google.colab.kernel.accessAllowed ? 'block' : 'none';\n",
              "    })();\n",
              "  </script>\n",
              "</div>\n",
              "    </div>\n",
              "  </div>\n"
            ]
          },
          "metadata": {},
          "execution_count": 52
        }
      ]
    },
    {
      "cell_type": "code",
      "source": [
        "from sklearn.feature_extraction.text import CountVectorizer,TfidfVectorizer"
      ],
      "metadata": {
        "id": "rUTz1xHAu2AX"
      },
      "execution_count": null,
      "outputs": []
    },
    {
      "cell_type": "code",
      "source": [
        "cv=CountVectorizer()"
      ],
      "metadata": {
        "id": "xKVRC7glu19Y"
      },
      "execution_count": null,
      "outputs": []
    },
    {
      "cell_type": "code",
      "source": [
        "cv_x=cv.fit_transform(df[\"test\"])"
      ],
      "metadata": {
        "id": "W-nkFKX8u16X"
      },
      "execution_count": null,
      "outputs": []
    },
    {
      "cell_type": "code",
      "source": [
        "cv_x"
      ],
      "metadata": {
        "colab": {
          "base_uri": "https://localhost:8080/"
        },
        "id": "ye5_RutJu13Y",
        "outputId": "b9d099d3-9c28-4b07-a9e3-47c7f761f051"
      },
      "execution_count": null,
      "outputs": [
        {
          "output_type": "execute_result",
          "data": {
            "text/plain": [
              "<4x14 sparse matrix of type '<class 'numpy.int64'>'\n",
              "\twith 16 stored elements in Compressed Sparse Row format>"
            ]
          },
          "metadata": {},
          "execution_count": 57
        }
      ]
    },
    {
      "cell_type": "code",
      "source": [
        "cv_x.toarray() # Covert array"
      ],
      "metadata": {
        "colab": {
          "base_uri": "https://localhost:8080/"
        },
        "id": "5AWwh4MB31UY",
        "outputId": "db3816bd-6d83-47cf-b79c-d30b422e9aeb"
      },
      "execution_count": null,
      "outputs": [
        {
          "output_type": "execute_result",
          "data": {
            "text/plain": [
              "array([[0, 0, 1, 0, 0, 0, 0, 0, 1, 0, 0, 0, 0, 0],\n",
              "       [1, 0, 0, 1, 1, 0, 0, 1, 0, 1, 0, 0, 0, 1],\n",
              "       [0, 1, 0, 0, 0, 1, 1, 0, 0, 0, 0, 0, 0, 1],\n",
              "       [0, 0, 0, 0, 0, 0, 0, 0, 0, 0, 1, 1, 1, 1]])"
            ]
          },
          "metadata": {},
          "execution_count": 58
        }
      ]
    },
    {
      "cell_type": "code",
      "source": [],
      "metadata": {
        "id": "R8YGegMV30_Y"
      },
      "execution_count": null,
      "outputs": []
    },
    {
      "cell_type": "code",
      "source": [],
      "metadata": {
        "id": "GjRcKPwP307w"
      },
      "execution_count": null,
      "outputs": []
    },
    {
      "cell_type": "code",
      "source": [],
      "metadata": {
        "id": "KyiZaGfK304U"
      },
      "execution_count": null,
      "outputs": []
    },
    {
      "cell_type": "code",
      "source": [],
      "metadata": {
        "id": "mMIqoAZ93003"
      },
      "execution_count": null,
      "outputs": []
    }
  ]
}